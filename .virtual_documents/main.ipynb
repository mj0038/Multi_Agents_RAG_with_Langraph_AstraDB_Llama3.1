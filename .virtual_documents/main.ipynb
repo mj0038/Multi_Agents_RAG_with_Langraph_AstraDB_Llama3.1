


import os
ASTRA_DB_APPLICATION_TOKEN = os.getenv("ASTRA_DB_APPLICATION_TOKEN")
ASTRA_DB_ID = os.getenv("ASTRA_DB_ID")



import cassio

cassio.init(token = ASTRA_DB_APPLICATION_TOKEN, database_id = ASTRA_DB_ID)



